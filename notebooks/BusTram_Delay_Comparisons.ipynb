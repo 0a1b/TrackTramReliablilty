{
 "cells": [
  {
   "cell_type": "markdown",
   "metadata": {},
   "source": [
    "# Bus vs Tram delay comparisons\n",
    "\n",
    "This notebook reads the local database (departures_raw) and plots average delays (in full minutes) over time for BUS vs TRAM, per day and per month.\n",
    "\n",
    "It looks for a config at ../config/local.yml for the DB URL; otherwise defaults to ../data/reliability.db (SQLite)."
   ]
  },
  {
   "cell_type": "code",
   "execution_count": null,
   "metadata": {},
   "outputs": [],
   "source": [
    "%pip -q install pandas matplotlib seaborn SQLAlchemy PyYAML"
   ]
  },
  {
   "cell_type": "code",
   "execution_count": null,
   "metadata": {},
   "outputs": [],
   "source": [
    "from pathlib import Path\n",
    "import os, json, yaml\n",
    "import pandas as pd\n",
    "from sqlalchemy import create_engine\n",
    "\n",
    "# Infer project root (this notebook is expected under TrackTramReliablilty/notebooks)\n",
    "nb_dir = Path.cwd()\n",
    "proj_root = nb_dir if (nb_dir / 'pyproject.toml').exists() else nb_dir.parent\n",
    "config_path = proj_root / 'config' / 'local.yml'\n",
    "default_sqlite = (proj_root / 'data' / 'reliability.db').resolve()\n",
    "db_url = None\n",
    "# Env override\n",
    "db_url = os.getenv('TTR_DB_URL')\n",
    "if not db_url:\n",
    "    if config_path.exists():\n",
    "        cfg = yaml.safe_load(config_path.read_text()) or {}\n",
    "        db_url = cfg.get('db_url')\n",
    "    if not db_url:\n",
    "        db_url = f'sqlite:///{default_sqlite}'\n",
    "\n",
    "print('Using DB URL:', db_url)\n",
    "engine = create_engine(db_url)"
   ]
  },
  {
   "cell_type": "code",
   "execution_count": null,
   "metadata": {},
   "outputs": [],
   "source": [
    "import pandas as pd\n",
    "\n",
    "query = \"\"\"\n",
    "SELECT\n",
    "  date(datetime(fetched_at, 'unixepoch')) AS dt,\n",
    "  transport_type,\n",
    "  delay_in_minutes\n",
    "FROM departures_raw\n",
    "WHERE transport_type IN ('BUS','TRAM')\n",
    "  AND delay_in_minutes IS NOT NULL\n",
    "  AND cancelled = 0\n",
    "ORDER BY dt ASC\n",
    "\"\"\"\n",
    "df = pd.read_sql_query(query, engine)\n",
    "df['dt'] = pd.to_datetime(df['dt'])\n",
    "df['delay_in_minutes'] = df['delay_in_minutes'].astype(float)\n",
    "df.shape, df.head()"
   ]
  },
  {
   "cell_type": "code",
   "execution_count": null,
   "metadata": {},
   "outputs": [],
   "source": [
    "import matplotlib.pyplot as plt\n",
    "import seaborn as sns\n",
    "sns.set_theme(style='whitegrid')\n",
    "\n",
    "# Daily averages (rounded to full minutes)\n",
    "daily = (\n",
    "    df.groupby(['dt', 'transport_type'])['delay_in_minutes'].mean().round().reset_index()\n",
    ")\n",
    "daily.rename(columns={'delay_in_minutes': 'avg_delay_min'}, inplace=True)\n",
    "\n",
    "fig, ax = plt.subplots(figsize=(11, 5))\n",
    "sns.lineplot(data=daily, x='dt', y='avg_delay_min', hue='transport_type', marker='o', ax=ax)\n",
    "ax.set_title('Average delay per day (BUS vs TRAM)')\n",
    "ax.set_xlabel('Date')\n",
    "ax.set_ylabel('Average delay (full minutes)')\n",
    "ax.legend(title='Transport')\n",
    "fig.autofmt_xdate()\n",
    "# Save figure\n",
    "fig_dir = proj_root / 'notebooks' / 'figures'\n",
    "fig_dir.mkdir(parents=True, exist_ok=True)\n",
    "fig_path = fig_dir / 'daily_bus_tram_delays.png'\n",
    "fig.savefig(fig_path, dpi=150, bbox_inches='tight')\n",
    "fig_path"
   ]
  },
  {
   "cell_type": "code",
   "execution_count": null,
   "metadata": {},
   "outputs": [],
   "source": [
    "# Monthly averages (rounded to full minutes)\n",
    "df['month'] = df['dt'].dt.to_period('M').dt.to_timestamp()\n",
    "monthly = (\n",
    "    df.groupby(['month', 'transport_type'])['delay_in_minutes'].mean().round().reset_index()\n",
    ")\n",
    "monthly.rename(columns={'delay_in_minutes': 'avg_delay_min'}, inplace=True)\n",
    "\n",
    "fig, ax = plt.subplots(figsize=(11, 5))\n",
    "sns.lineplot(data=monthly, x='month', y='avg_delay_min', hue='transport_type', marker='o', ax=ax)\n",
    "ax.set_title('Average delay per month (BUS vs TRAM)')\n",
    "ax.set_xlabel('Month')\n",
    "ax.set_ylabel('Average delay (full minutes)')\n",
    "ax.legend(title='Transport')\n",
    "fig.autofmt_xdate()\n",
    "fig_path2 = fig_dir / 'monthly_bus_tram_delays.png'\n",
    "fig.savefig(fig_path2, dpi=150, bbox_inches='tight')\n",
    "fig_path2"
   ]
  }
 ],
 "metadata": {
  "kernelspec": {
   "display_name": "Python 3",
   "language": "python",
   "name": "python3"
  },
  "language_info": {
   "name": "python",
   "version": "3"
  }
 },
 "nbformat": 4,
 "nbformat_minor": 5
}
